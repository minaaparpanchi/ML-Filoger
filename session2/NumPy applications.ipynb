{
 "cells": [
  {
   "cell_type": "markdown",
   "id": "ecf22958",
   "metadata": {},
   "source": [
    "### session 2: NumPy applications\n",
    "1. Create a 2*3 array in numpy, name it a.\n",
    "2. Creat a 2 * 3 * 3 array and write the code for accessing the 2nd element of the 3rd. \n",
    "3. Reshape a 2 * 10 array to 5 * 4.\n",
    "4. Create a 8*8 matrix that all of its elements are 7 and convert it to an array with just one column.\n",
    "5. Create two 4*4 arrays and calculate the four basic arithmatic operations.\n",
    "6. Concatenate two arrays of section 4. "
   ]
  },
  {
   "cell_type": "code",
   "execution_count": 4,
   "id": "0f33f140",
   "metadata": {},
   "outputs": [
    {
     "data": {
      "text/plain": [
       "array([[1, 2],\n",
       "       [3, 4],\n",
       "       [5, 6]])"
      ]
     },
     "execution_count": 4,
     "metadata": {},
     "output_type": "execute_result"
    }
   ],
   "source": [
    "import numpy as np\n",
    "from numpy import random\n",
    "\n",
    "a = np.array([[1, 2], [3, 4], [5, 6]])\n",
    "\n",
    "a"
   ]
  },
  {
   "cell_type": "code",
   "execution_count": 5,
   "id": "c33b3b84",
   "metadata": {},
   "outputs": [
    {
     "data": {
      "text/plain": [
       "array([[[1, 2, 3],\n",
       "        [4, 5, 6],\n",
       "        [7, 8, 9]],\n",
       "\n",
       "       [[1, 2, 3],\n",
       "        [4, 5, 6],\n",
       "        [7, 8, 9]]])"
      ]
     },
     "execution_count": 5,
     "metadata": {},
     "output_type": "execute_result"
    }
   ],
   "source": [
    "b = np.array(([[[1, 2, 3], [4, 5, 6], [7, 8, 9]], [[1, 2, 3], [4, 5, 6], [7, 8, 9]]]))\n",
    "\n",
    "b"
   ]
  },
  {
   "cell_type": "code",
   "execution_count": 8,
   "id": "e5e880e9",
   "metadata": {},
   "outputs": [
    {
     "data": {
      "text/plain": [
       "8"
      ]
     },
     "execution_count": 8,
     "metadata": {},
     "output_type": "execute_result"
    }
   ],
   "source": [
    "b[0,2,1] #we do not have 2nd element of 3rd dimention (the size of third dimention is 2)"
   ]
  },
  {
   "cell_type": "code",
   "execution_count": 9,
   "id": "8a5dff67",
   "metadata": {},
   "outputs": [
    {
     "data": {
      "text/plain": [
       "array([[ 1,  2,  3,  4],\n",
       "       [ 5,  6,  7,  8],\n",
       "       [ 9, 10, 10,  9],\n",
       "       [ 8,  7,  6,  5],\n",
       "       [ 4,  3,  2,  1]])"
      ]
     },
     "execution_count": 9,
     "metadata": {},
     "output_type": "execute_result"
    }
   ],
   "source": [
    "c = np.array([[1, 2, 3, 4, 5, 6, 7, 8, 9, 10], [10, 9, 8, 7, 6, 5, 4, 3, 2, 1]])\n",
    "\n",
    "c1 = c.reshape(5, 4)\n",
    "\n",
    "c1"
   ]
  },
  {
   "cell_type": "code",
   "execution_count": 10,
   "id": "9508c0fa",
   "metadata": {},
   "outputs": [
    {
     "data": {
      "text/plain": [
       "array([[7, 7, 7, 7, 7, 7, 7, 7],\n",
       "       [7, 7, 7, 7, 7, 7, 7, 7],\n",
       "       [7, 7, 7, 7, 7, 7, 7, 7],\n",
       "       [7, 7, 7, 7, 7, 7, 7, 7],\n",
       "       [7, 7, 7, 7, 7, 7, 7, 7],\n",
       "       [7, 7, 7, 7, 7, 7, 7, 7],\n",
       "       [7, 7, 7, 7, 7, 7, 7, 7],\n",
       "       [7, 7, 7, 7, 7, 7, 7, 7]])"
      ]
     },
     "execution_count": 10,
     "metadata": {},
     "output_type": "execute_result"
    }
   ],
   "source": [
    "d = np.full([8, 8], 7)\n",
    "\n",
    "d"
   ]
  },
  {
   "cell_type": "code",
   "execution_count": 11,
   "id": "ede3fb69",
   "metadata": {},
   "outputs": [
    {
     "data": {
      "text/plain": [
       "array([7, 7, 7, 7, 7, 7, 7, 7, 7, 7, 7, 7, 7, 7, 7, 7, 7, 7, 7, 7, 7, 7,\n",
       "       7, 7, 7, 7, 7, 7, 7, 7, 7, 7, 7, 7, 7, 7, 7, 7, 7, 7, 7, 7, 7, 7,\n",
       "       7, 7, 7, 7, 7, 7, 7, 7, 7, 7, 7, 7, 7, 7, 7, 7, 7, 7, 7, 7])"
      ]
     },
     "execution_count": 11,
     "metadata": {},
     "output_type": "execute_result"
    }
   ],
   "source": [
    "d1 = d.reshape(-1)\n",
    "\n",
    "d1"
   ]
  },
  {
   "cell_type": "code",
   "execution_count": 12,
   "id": "3eabbd28",
   "metadata": {},
   "outputs": [
    {
     "data": {
      "text/plain": [
       "array([7, 7, 7, 7, 7, 7, 7, 7, 7, 7, 7, 7, 7, 7, 7, 7, 7, 7, 7, 7, 7, 7,\n",
       "       7, 7, 7, 7, 7, 7, 7, 7, 7, 7, 7, 7, 7, 7, 7, 7, 7, 7, 7, 7, 7, 7,\n",
       "       7, 7, 7, 7, 7, 7, 7, 7, 7, 7, 7, 7, 7, 7, 7, 7, 7, 7, 7, 7])"
      ]
     },
     "execution_count": 12,
     "metadata": {},
     "output_type": "execute_result"
    }
   ],
   "source": [
    "d2 = d.flatten()\n",
    "\n",
    "d2"
   ]
  },
  {
   "cell_type": "code",
   "execution_count": 13,
   "id": "3b5bb16b",
   "metadata": {},
   "outputs": [
    {
     "data": {
      "text/plain": [
       "'\\nhttps://stackoverflow.com/questions/5954603/transposing-a-1d-numpy-array\\n\\n'"
      ]
     },
     "execution_count": 13,
     "metadata": {},
     "output_type": "execute_result"
    }
   ],
   "source": [
    "d3 = d.reshape((-1,1))\n",
    "\n",
    "d3\n",
    "\n",
    "\"\"\"\n",
    "https://stackoverflow.com/questions/5954603/transposing-a-1d-numpy-array\n",
    "\n",
    "\"\"\""
   ]
  },
  {
   "cell_type": "code",
   "execution_count": 14,
   "id": "112b1bd8",
   "metadata": {},
   "outputs": [
    {
     "data": {
      "text/plain": [
       "array([[11,  6, 27, 46],\n",
       "       [ 5, 32, 28, 32],\n",
       "       [ 5, 32, 11, 40],\n",
       "       [28, 28, 27, 37]])"
      ]
     },
     "execution_count": 14,
     "metadata": {},
     "output_type": "execute_result"
    }
   ],
   "source": [
    "e1 = random.randint(50, size=(4, 4))\n",
    "e2 = random.randint(20, size=(4, 4))\n",
    "\n",
    "e1"
   ]
  },
  {
   "cell_type": "code",
   "execution_count": 15,
   "id": "bdc7ca6c",
   "metadata": {},
   "outputs": [
    {
     "data": {
      "text/plain": [
       "array([[ 0,  4, 10,  2],\n",
       "       [16, 16,  9,  8],\n",
       "       [14, 12, 18, 13],\n",
       "       [ 3, 14,  0, 13]])"
      ]
     },
     "execution_count": 15,
     "metadata": {},
     "output_type": "execute_result"
    }
   ],
   "source": [
    "e2"
   ]
  },
  {
   "cell_type": "code",
   "execution_count": 16,
   "id": "6c6d37e6",
   "metadata": {},
   "outputs": [
    {
     "data": {
      "text/plain": [
       "array([[11, 10, 37, 48],\n",
       "       [21, 48, 37, 40],\n",
       "       [19, 44, 29, 53],\n",
       "       [31, 42, 27, 50]])"
      ]
     },
     "execution_count": 16,
     "metadata": {},
     "output_type": "execute_result"
    }
   ],
   "source": [
    "np.add(e1, e2)"
   ]
  },
  {
   "cell_type": "code",
   "execution_count": 18,
   "id": "2d8d5373",
   "metadata": {},
   "outputs": [
    {
     "data": {
      "text/plain": [
       "array([[ 11,   2,  17,  44],\n",
       "       [-11,  16,  19,  24],\n",
       "       [ -9,  20,  -7,  27],\n",
       "       [ 25,  14,  27,  24]])"
      ]
     },
     "execution_count": 18,
     "metadata": {},
     "output_type": "execute_result"
    }
   ],
   "source": [
    "np.subtract(e1, e2)"
   ]
  },
  {
   "cell_type": "code",
   "execution_count": 19,
   "id": "c369d80b",
   "metadata": {},
   "outputs": [
    {
     "data": {
      "text/plain": [
       "array([[  0,  24, 270,  92],\n",
       "       [ 80, 512, 252, 256],\n",
       "       [ 70, 384, 198, 520],\n",
       "       [ 84, 392,   0, 481]])"
      ]
     },
     "execution_count": 19,
     "metadata": {},
     "output_type": "execute_result"
    }
   ],
   "source": [
    "np.multiply(e1, e2)"
   ]
  },
  {
   "cell_type": "code",
   "execution_count": 20,
   "id": "1444a5af",
   "metadata": {},
   "outputs": [
    {
     "name": "stderr",
     "output_type": "stream",
     "text": [
      "<ipython-input-20-4425262fdca3>:1: RuntimeWarning: divide by zero encountered in true_divide\n",
      "  np.divide(e1, e2)\n"
     ]
    },
    {
     "data": {
      "text/plain": [
       "array([[        inf,  1.5       ,  2.7       , 23.        ],\n",
       "       [ 0.3125    ,  2.        ,  3.11111111,  4.        ],\n",
       "       [ 0.35714286,  2.66666667,  0.61111111,  3.07692308],\n",
       "       [ 9.33333333,  2.        ,         inf,  2.84615385]])"
      ]
     },
     "execution_count": 20,
     "metadata": {},
     "output_type": "execute_result"
    }
   ],
   "source": [
    "np.divide(e1, e2)"
   ]
  },
  {
   "cell_type": "code",
   "execution_count": 22,
   "id": "c2ddc0ca",
   "metadata": {},
   "outputs": [
    {
     "data": {
      "text/plain": [
       "array([[11,  6, 27, 46],\n",
       "       [ 5, 32, 28, 32],\n",
       "       [ 5, 32, 11, 40],\n",
       "       [28, 28, 27, 37],\n",
       "       [ 0,  4, 10,  2],\n",
       "       [16, 16,  9,  8],\n",
       "       [14, 12, 18, 13],\n",
       "       [ 3, 14,  0, 13]])"
      ]
     },
     "execution_count": 22,
     "metadata": {},
     "output_type": "execute_result"
    }
   ],
   "source": [
    "e3 = np.concatenate((e1, e2))\n",
    "\n",
    "e3"
   ]
  },
  {
   "cell_type": "code",
   "execution_count": 24,
   "id": "4d4789ba",
   "metadata": {},
   "outputs": [
    {
     "data": {
      "text/plain": [
       "array([[[11,  6, 27, 46],\n",
       "        [ 0,  4, 10,  2]],\n",
       "\n",
       "       [[ 5, 32, 28, 32],\n",
       "        [16, 16,  9,  8]],\n",
       "\n",
       "       [[ 5, 32, 11, 40],\n",
       "        [14, 12, 18, 13]],\n",
       "\n",
       "       [[28, 28, 27, 37],\n",
       "        [ 3, 14,  0, 13]]])"
      ]
     },
     "execution_count": 24,
     "metadata": {},
     "output_type": "execute_result"
    }
   ],
   "source": [
    "e4 = np.stack((e1, e2),axis=1)\n",
    "\n",
    "e4"
   ]
  },
  {
   "cell_type": "code",
   "execution_count": null,
   "id": "809c245d",
   "metadata": {},
   "outputs": [],
   "source": []
  }
 ],
 "metadata": {
  "kernelspec": {
   "display_name": "Python 3",
   "language": "python",
   "name": "python3"
  },
  "language_info": {
   "codemirror_mode": {
    "name": "ipython",
    "version": 3
   },
   "file_extension": ".py",
   "mimetype": "text/x-python",
   "name": "python",
   "nbconvert_exporter": "python",
   "pygments_lexer": "ipython3",
   "version": "3.8.8"
  }
 },
 "nbformat": 4,
 "nbformat_minor": 5
}
